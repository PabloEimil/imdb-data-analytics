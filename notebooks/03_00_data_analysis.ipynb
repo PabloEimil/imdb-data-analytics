{
 "cells": [
  {
   "cell_type": "markdown",
   "id": "2634a15b",
   "metadata": {},
   "source": [
    "# **📈Análisis de datos**\n",
    "\n",
    "## **Objetivo:** Responder preguntas clave del proyecto.\n",
    "\n",
    "### **Definición del objetivo principal del proyecto:**\n",
    "\n",
    "#### El propósito de este análisis es identificar qué características hacen que un contenido (serie, película, corto…) sea más popular y/o mejor valorado en IMDb. Para ello, se exploran relaciones entre tipo de contenido, género, duración, año de publicación y otras variables. La idea es obtener conclusiones útiles para ayudar a una plataforma a decidir **en qué tipo de contenido invertir y cómo estructurarlo para maximizar su éxito.**\n",
    "\n",
    "### **Estructura del análisis:**\n",
    "\n",
    "- 1. Características clave asociadas al éxito.\n",
    "- 2. Tendencias temporales.\n",
    "- 3. Analisis por tipo de contenido.\n",
    "- 4. Respuestas a otras preguntas relevantes.\n",
    "- 5. Conclusión: Insights combinados y estrategia.\n",
    " \n",
    " \n",
    "\n",
    "**ACLARACIÓN**: Muchas de los gráficos en cada parte del análisis se visualizan mejor y mas detalladamente en PowerBi (leer readme)"
   ]
  }
 ],
 "metadata": {
  "kernelspec": {
   "display_name": "Python 3",
   "language": "python",
   "name": "python3"
  },
  "language_info": {
   "codemirror_mode": {
    "name": "ipython",
    "version": 3
   },
   "file_extension": ".py",
   "mimetype": "text/x-python",
   "name": "python",
   "nbconvert_exporter": "python",
   "pygments_lexer": "ipython3",
   "version": "3.13.1"
  }
 },
 "nbformat": 4,
 "nbformat_minor": 5
}
