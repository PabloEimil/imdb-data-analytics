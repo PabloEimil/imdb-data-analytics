{
 "cells": [
  {
   "cell_type": "markdown",
   "id": "2634a15b",
   "metadata": {},
   "source": [
    "# **📈Análisis de datos**\n",
    "\n",
    "## **Objetivo:** Responder preguntas clave del proyecto.\n",
    "\n",
    "### **Definición del objetivo principal del proyecto:**\n",
    "\n",
    "#### El propósito de este análisis es identificar qué características hacen que un contenido (serie, película, corto…) sea más popular y/o mejor valorado en IMDb. Para ello, se exploran relaciones entre tipo de contenido, género, duración, año de publicación y otras variables. La idea es obtener conclusiones útiles para ayudar a una plataforma a decidir **en qué tipo de contenido invertir y cómo estructurarlo para maximizar su éxito.**\n",
    "\n",
    "### **Estructura del análisis:**\n",
    "\n",
    "- 1. Características clave asociadas al éxito.\n",
    "- 2. Tendencias temporales.\n",
    "- 3. Analisis por tipo de contenido.\n",
    "- 4. Respuestas a otras preguntas relevantes.\n",
    "- 5. Conclusión: Insights combinados y estrategia.\n",
    " \n",
    " \n",
    "\n",
    "**ACLARACIÓN**: Muchas de los gráficos en cada parte del análisis se visualizan mejor y mas detalladamente en PowerBi (leer readme)"
   ]
  },
  {
   "cell_type": "markdown",
   "id": "b81e658d",
   "metadata": {},
   "source": [
    "esto es temporal!!!\n",
    "\n",
    "preguntas:\n",
    "\n",
    "1.\n",
    "¿Caracerísiticas que se asocian con una mayor popularidad?\n",
    "¿Qué generos son mas populares?\n",
    "¿Que generos están mejores valorados?\n",
    "¿Relacion entre numero de votos y valoracion?\n",
    "\n",
    "2.\n",
    "¿Años con mas lanzamientos?\n",
    "¿Han cambiado las valoreciones promedio a lo largo del tiempo?\n",
    "¿Qué generos han ganado o perdido popularidad con los años?\n",
    "¿Ha cambiado la duracación promedio con el tiempo?\n",
    "¿Puede afectar los avances externos en las tendencias?\n",
    "¿Hay alguna temporada estrella para lanzar algún tipo de contenido?\n",
    "\n",
    "3. Centrandose en peliculas\n",
    "¿Qué géneros están mejor valorados y mas visto (ahora que solo hay peliculas)?\n",
    "¿Relacion entre duración y valoración?\n",
    "¿Relacion entre duración y numero de votos?\n",
    "¿Que generos dominan cada tipo? (solo peliculas)\n",
    "\n",
    "\n",
    "4.\n",
    "Combinaciones de géneros que destaquen más.\n",
    "¿La longiud de las series tienden a ser mejor valoradas?\n",
    "Caracterísitcas del top 5%\n",
    "¿Como afecta que los títulos sean para adultos?\n",
    "Impacto de actores/directores \n",
    "\n",
    "5.\n",
    "Conclusiónes finales básicas.\n",
    "Enlace con Powerbi para conclusiones extensas. \n",
    "Posibles mejoras en otros analisis, o mejoras de datos (como financiación, o ganancias, regiones, lugar de publicacion)\n"
   ]
  }
 ],
 "metadata": {
  "kernelspec": {
   "display_name": "Python 3",
   "language": "python",
   "name": "python3"
  },
  "language_info": {
   "codemirror_mode": {
    "name": "ipython",
    "version": 3
   },
   "file_extension": ".py",
   "mimetype": "text/x-python",
   "name": "python",
   "nbconvert_exporter": "python",
   "pygments_lexer": "ipython3",
   "version": "3.13.1"
  }
 },
 "nbformat": 4,
 "nbformat_minor": 5
}
