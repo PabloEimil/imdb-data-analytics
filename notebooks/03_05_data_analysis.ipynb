{
 "cells": [
  {
   "cell_type": "markdown",
   "id": "534b2eb4",
   "metadata": {},
   "source": [
    "# **5. Conclusión final y enlace con PowerBi.**"
   ]
  },
  {
   "cell_type": "markdown",
   "id": "c4b6f2ce",
   "metadata": {},
   "source": [
    "**Objetivo del análisis:** obtener conclusiones útiles para ayudar a una plataforma a decidir en qué tipo de contenido invertir y cómo estructurarlo para maximizar su éxito.\n",
    "\n",
    "Con este objetivo se ha analizado las variables disponibles para decidir en qué titulo invertir. Se ha tenido en cuenta que la plataforma busca un beneficio al título, por lo que se ha valorado más las variables más seguras, y no tanto las arriesgadas (mayor beneficio pero mayor riesgo) asumiendo que es preferible aumentar la tasa de éxito para un beneficio (aunque sea medio) a aumentar el riesgo para un beneficio aún mayor.\n",
    "\n",
    "También es importante recordar que este análsis usa las variables de valoración, número de votos, y número de títulos para la medición del \"éxito\" del título, lo cual deja fuera a otras variables importantísimas cómo pueden ser: costes de producción, beneficios netos de los títulos, inversión en marketing, etc.\n",
    "\n",
    "Por otro lado, **éste análisis se ve complementado con un reporte en PowerBi**. El reporte tiene la intención de no solo ampliar la información y las conclusiones sacadas en este análisis, sino de también ofrecer datos interactivos y visualmente claros para la exploración de otras variables o conclusiones.\n",
    "\n",
    "Para las conclusiones finales dividiremos las conclusiones según: tipo de título, género, duración y objetivo de valoración."
   ]
  },
  {
   "cell_type": "markdown",
   "id": "4380ec88",
   "metadata": {},
   "source": [
    "-   ### **<u>Tipo de título</u>**"
   ]
  },
  {
   "cell_type": "markdown",
   "id": "0f95a031",
   "metadata": {},
   "source": [
    "En el apartado 3.1 analizamos la popularidad de los tipos de títulos: Película, Series, MiniSeries, Cortos y Película de TV. \n",
    "\n",
    "Las diferencias entre las películas y el resto de tipos son muy llamativas, siendo el género con mucha diferencia con más títulos, más votos, e incluso más votos promedio. Y, aunque la valoración media es algo mas baja que el resto, para facilitar el análisis y para ir sobreseguro, **se decide trabajar únicamente con el género de películas** ya que es el género con más información para analizar, además de ser lo más popular. "
   ]
  },
  {
   "cell_type": "markdown",
   "id": "fc25c351",
   "metadata": {},
   "source": [
    "-   ### **<u>Género</u>**"
   ]
  },
  {
   "cell_type": "markdown",
   "id": "f75f538a",
   "metadata": {},
   "source": [
    "Este apartado es el apartado más complejo a la hora de decidir qué géneros son los mejores para la elección del título. \n",
    "\n",
    "Son claros algunos géneros que evitar, cómo Reality, Adulto, Talk-Show, y Game-Show. Ya que son géneros muy de nicho, con muy pocos votos, además de no tener buenas valoraciones. \n",
    "\n",
    "Para el resto de géneros la elección se ve influenciada por el número de votos promedio, el número de títulos, y la valoración promedio. La clave es que peso se le da a cada una de estas variables. En este caso se le ha dado una valoración mayor al número de votos promedio, luego a la valoración promedio y por último al número de títulos. Esto se debe a que, de nuevo, el número de votos se presume que proviene de una mayor tasa de visualización; por otro lado la valoración tiene una relación con el número de votos, y por último el número de titulos ya que se asume que el mayor número de titulos con un genero, o una combinación de géneros, indica que funciona y que está bien aceptado por el público.\n",
    "\n",
    "Con estos valores en mente los géneros recomendados son:\n",
    "\n",
    "-   **Drama con: Thriller, Romance.** -> *Siendo con Romance mejor valorado, y con Thriller más valorado*\n",
    "-   **Thriller con: Film-Noir, Historico** -> *Ambas combinaciones tienen una muy buena valoración con un buen número de votos, siendo una opción muy sólida.*\n",
    "-   **Aventura con: Animación, Drama**  -> *Animación tiene una buena valoracion con aventura, pero con Drma es más valorado*\n",
    "-   **Crimen con: Biografía, Drama** -> *Siendo de las dos la más interesante la Biografía por su alta valoración y su popularidad*\n",
    "\n",
    "Estas combinaciones de géneros ofrecen opciones muy sólidas en todas las variables, algunas destacando más en unos aspectos que en otros, pero que están probadas que funcionan bien juntos. \n"
   ]
  },
  {
   "cell_type": "markdown",
   "id": "be9a2f29",
   "metadata": {},
   "source": [
    "-   ### **<u>Duración</u>**"
   ]
  },
  {
   "cell_type": "markdown",
   "id": "b5ad8744",
   "metadata": {},
   "source": [
    "La duración media de las películas oscila entre 85 a 90 minutos, incluso a lo largo de los años. No parece un patrón que vaya a cambiar, al menos a corto plazo, ya que es un estandar de la industria.\n",
    "\n",
    "Por otro lado, las valoraciones son ligeramente mejores en títulos que tengan una duración superior a los 90 minutos. Y aunque esto pueda hacer pensar que es mejor hacer películas muy largas, es un arma de doble filo, ya que las películas largas tienden a tener o muy buenas notas, o muy malas. \n",
    "\n",
    "Un rango de duración (en la que las valoraciones son altas con un número de votos promedio alto igualmente en cualquier nota) es **entre 100 y 140 minutos**. Esto es algo más largo que el estandar de la industria, pero es la opción más segura para mantener una buena cantidad de votos en cualquier rango de valoración (por supuesto siendo mejor cuanto más valoración tiene). \n",
    "\n",
    "Es importante comentar que cada género tiene una duración promedia diferente a tener en cuenta en función del género que se elija. Aunque, de forma genérica, los géneros recomendados son géneros con duraciones más alta de la media, lo cual refuerza la decisión de la duración.\n",
    "\n",
    "Otro detalle a destacar sería que, en general, cuanto más duración tenga el título se le presupone un mayor presupuesto para la producción. Con el dato de presupuesto se podría analizar si este aumento de duración frente al estandar de la industria merece la pena o no."
   ]
  },
  {
   "cell_type": "markdown",
   "id": "a24d5101",
   "metadata": {},
   "source": [
    "-   ### **<u>Objetivo de valoración</u>**"
   ]
  },
  {
   "cell_type": "markdown",
   "id": "294c185d",
   "metadata": {},
   "source": [
    "Se ha analizado la importancia de la valoración en la \"popularidad\" del título. \n",
    "\n",
    "-   La tendencia suele ser: **a mayor número de votos, mayor valoración, y viceversa.**\n",
    "-   **No hay una relación entre los géneros más valorados, con los mejor valorados. **\n",
    "-   El objetivo del análisis es la decisión de en que título invertir, y el dato que más nos ayuda a resolver esta duda es el número de votos promedio (ya que se asume más visualizaciones = más rentable), la valoración queda relegada a una segunda posición.\n",
    "-   Las notas en las que más aumento de votos se percibe es el rango entre 8 y 9, seguidas del rango de 7 a 8. Por otro lado, las notas en la tabla media (de 4 a 6) suelen pasar más desapercibidas que incluso las de notas de menos de 4 (presumiblemente por títulos de muy mala calidad también pueden dar que hablar, y por lo tanto ser más vistos)\n",
    "\n",
    "Por todas estas razones **la nota objetivo debería ser de al menos un 7, y nunca menos de 5,** para notar cambios en la popularidad de tu título. \n",
    "\n",
    "Otro detalle a tener en cuenta es que ciertos géneros van asociados a una mejor o peor nota. Los géneros seleccionados para el título acumulan notas medias de al menos un 6, lo cual es un buen punto de partida para lograr el 7 o más."
   ]
  },
  {
   "cell_type": "markdown",
   "id": "3f3d9a41",
   "metadata": {},
   "source": [
    "-   ### **<u>Conclusión final</u>**"
   ]
  },
  {
   "cell_type": "markdown",
   "id": "97933424",
   "metadata": {},
   "source": [
    "Se recomienda:\n",
    "\n",
    "-   TIPO -->   **PELÍCULA**\n",
    "-   GÉNERO:    -->   **DRAMA (con Thriller o Romance), THRILLER (con Film-Noir o Histórico), AVENTURA(con Animación o Drama), CRIMEN(con Biografía o Drama)**\n",
    "-   DURACIÓN:   -->      **100- 140 minutos**\n",
    "-   VALORACIÓN:    -->   **Al menos 7**"
   ]
  },
  {
   "cell_type": "markdown",
   "id": "0d2bab11",
   "metadata": {},
   "source": [
    "-   ### **<u>PowerBi</u>**"
   ]
  }
 ],
 "metadata": {
  "kernelspec": {
   "display_name": "Python 3",
   "language": "python",
   "name": "python3"
  },
  "language_info": {
   "name": "python",
   "version": "3.13.1"
  }
 },
 "nbformat": 4,
 "nbformat_minor": 5
}
